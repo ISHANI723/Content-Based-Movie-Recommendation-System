{
  "nbformat": 4,
  "nbformat_minor": 0,
  "metadata": {
    "colab": {
      "provenance": []
    },
    "kernelspec": {
      "name": "python3",
      "display_name": "Python 3"
    },
    "language_info": {
      "name": "python"
    }
  },
  "cells": [
    {
      "cell_type": "markdown",
      "source": [
        "**Step 1: Download Dataset**\n",
        "\n",
        "MovieLens 100k\n",
        "\n",
        "This has:\n",
        "\n",
        "* ratings.csv → userId, movieId, rating, timestamp\n",
        "* movies.csv → movieId, title, genres\n",
        "\n"
      ],
      "metadata": {
        "id": "-i5lyZhzm3F0"
      }
    },
    {
      "cell_type": "markdown",
      "source": [
        "**Step 2: Install Libraries**"
      ],
      "metadata": {
        "id": "ZZxVMxo5nKhp"
      }
    },
    {
      "cell_type": "code",
      "source": [
        "pip install pandas numpy scikit-learn"
      ],
      "metadata": {
        "colab": {
          "base_uri": "https://localhost:8080/"
        },
        "id": "B36Tt2H8nHmT",
        "outputId": "6127dcb8-3cec-4c4b-f107-0af521e1dfa2"
      },
      "execution_count": 1,
      "outputs": [
        {
          "output_type": "stream",
          "name": "stdout",
          "text": [
            "Requirement already satisfied: pandas in /usr/local/lib/python3.12/dist-packages (2.2.2)\n",
            "Requirement already satisfied: numpy in /usr/local/lib/python3.12/dist-packages (2.0.2)\n",
            "Requirement already satisfied: scikit-learn in /usr/local/lib/python3.12/dist-packages (1.6.1)\n",
            "Requirement already satisfied: python-dateutil>=2.8.2 in /usr/local/lib/python3.12/dist-packages (from pandas) (2.9.0.post0)\n",
            "Requirement already satisfied: pytz>=2020.1 in /usr/local/lib/python3.12/dist-packages (from pandas) (2025.2)\n",
            "Requirement already satisfied: tzdata>=2022.7 in /usr/local/lib/python3.12/dist-packages (from pandas) (2025.2)\n",
            "Requirement already satisfied: scipy>=1.6.0 in /usr/local/lib/python3.12/dist-packages (from scikit-learn) (1.16.2)\n",
            "Requirement already satisfied: joblib>=1.2.0 in /usr/local/lib/python3.12/dist-packages (from scikit-learn) (1.5.2)\n",
            "Requirement already satisfied: threadpoolctl>=3.1.0 in /usr/local/lib/python3.12/dist-packages (from scikit-learn) (3.6.0)\n",
            "Requirement already satisfied: six>=1.5 in /usr/local/lib/python3.12/dist-packages (from python-dateutil>=2.8.2->pandas) (1.17.0)\n"
          ]
        }
      ]
    },
    {
      "cell_type": "markdown",
      "source": [
        "**Step 3: Content-Based Filtering (using Cosine Similarity)**"
      ],
      "metadata": {
        "id": "MJ3wkzVonQS5"
      }
    },
    {
      "cell_type": "code",
      "execution_count": 3,
      "metadata": {
        "colab": {
          "base_uri": "https://localhost:8080/"
        },
        "id": "ItvzU6BsmxBx",
        "outputId": "ed4a861c-b359-4fde-d939-3b20eadb1796"
      },
      "outputs": [
        {
          "output_type": "stream",
          "name": "stdout",
          "text": [
            "1706                                       Antz (1998)\n",
            "2355                                Toy Story 2 (1999)\n",
            "2809    Adventures of Rocky and Bullwinkle, The (2000)\n",
            "3000                  Emperor's New Groove, The (2000)\n",
            "3568                             Monsters, Inc. (2001)\n",
            "Name: title, dtype: object\n"
          ]
        }
      ],
      "source": [
        "import pandas as pd\n",
        "from sklearn.feature_extraction.text import TfidfVectorizer\n",
        "from sklearn.metrics.pairwise import cosine_similarity\n",
        "\n",
        "# Load dataset\n",
        "movies = pd.read_csv(\"movies.csv\")  # movieId, title, genres\n",
        "\n",
        "# Convert genres to TF-IDF matrix\n",
        "tfidf = TfidfVectorizer(stop_words='english')\n",
        "movies['genres'] = movies['genres'].fillna('')\n",
        "tfidf_matrix = tfidf.fit_transform(movies['genres'])\n",
        "\n",
        "# Compute cosine similarity\n",
        "cosine_sim = cosine_similarity(tfidf_matrix, tfidf_matrix)\n",
        "\n",
        "# Function to recommend\n",
        "def recommend_content(title, cosine_sim=cosine_sim):\n",
        "    idx = movies[movies['title'].str.contains(title, case=False)].index[0]\n",
        "    sim_scores = list(enumerate(cosine_sim[idx]))\n",
        "    sim_scores = sorted(sim_scores, key=lambda x: x[1], reverse=True)\n",
        "    sim_scores = sim_scores[1:6]  # top 5\n",
        "    movie_indices = [i[0] for i in sim_scores]\n",
        "    return movies['title'].iloc[movie_indices]\n",
        "\n",
        "print(recommend_content(\"Toy Story\"))\n"
      ]
    },
    {
      "cell_type": "code",
      "source": [
        "print(recommend_content(\"Beautiful Girls\"))"
      ],
      "metadata": {
        "colab": {
          "base_uri": "https://localhost:8080/"
        },
        "id": "178zdxBZnqM_",
        "outputId": "787b75e8-77c1-4812-93b5-851a686d9425"
      },
      "execution_count": 4,
      "outputs": [
        {
          "output_type": "stream",
          "name": "stdout",
          "text": [
            "10        American President, The (1995)\n",
            "47               Mighty Aphrodite (1995)\n",
            "52     Postman, The (Postino, Il) (1994)\n",
            "83                Beautiful Girls (1996)\n",
            "165       Something to Talk About (1995)\n",
            "Name: title, dtype: object\n"
          ]
        }
      ]
    },
    {
      "cell_type": "code",
      "source": [
        "print(recommend_content(\"sudden death\"))"
      ],
      "metadata": {
        "colab": {
          "base_uri": "https://localhost:8080/"
        },
        "id": "TAagp3T8nt00",
        "outputId": "d36ab3fc-ff8e-43b4-fad1-55a26aabf527"
      },
      "execution_count": 5,
      "outputs": [
        {
          "output_type": "stream",
          "name": "stdout",
          "text": [
            "63                                      Fair Game (1995)\n",
            "172                 Under Siege 2: Dark Territory (1995)\n",
            "215                                   Hunted, The (1995)\n",
            "555    Bloodsport 2 (a.k.a. Bloodsport II: The Next K...\n",
            "876           Best of the Best 3: No Turning Back (1995)\n",
            "Name: title, dtype: object\n"
          ]
        }
      ]
    },
    {
      "cell_type": "code",
      "source": [
        "print(recommend_content(\"nixon\"))"
      ],
      "metadata": {
        "colab": {
          "base_uri": "https://localhost:8080/"
        },
        "id": "J8AbkSWpnw7x",
        "outputId": "feb087ac-4010-4cc6-e0e6-fa4bb3f2d04b"
      },
      "execution_count": 6,
      "outputs": [
        {
          "output_type": "stream",
          "name": "stdout",
          "text": [
            "25                     Othello (1995)\n",
            "30             Dangerous Minds (1995)\n",
            "36    Cry, the Beloved Country (1995)\n",
            "39                 Restoration (1995)\n",
            "50                     Georgia (1995)\n",
            "Name: title, dtype: object\n"
          ]
        }
      ]
    },
    {
      "cell_type": "code",
      "source": [
        "print(recommend_content(\"city hall\"))"
      ],
      "metadata": {
        "colab": {
          "base_uri": "https://localhost:8080/"
        },
        "id": "I1RsU330n0NG",
        "outputId": "3be0a8e8-81cb-42d0-d308-172480f1c25b"
      },
      "execution_count": 8,
      "outputs": [
        {
          "output_type": "stream",
          "name": "stdout",
          "text": [
            "71               Juror, The (1996)\n",
            "88                City Hall (1996)\n",
            "185         Babysitter, The (1995)\n",
            "192              Disclosure (1994)\n",
            "195    Death and the Maiden (1994)\n",
            "Name: title, dtype: object\n"
          ]
        }
      ]
    }
  ]
}